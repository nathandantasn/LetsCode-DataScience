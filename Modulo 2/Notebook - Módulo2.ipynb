{
 "cells": [
  {
   "cell_type": "code",
   "execution_count": 2,
   "id": "37c7ac4c",
   "metadata": {},
   "outputs": [
    {
     "name": "stdout",
     "output_type": "stream",
     "text": [
      "['Brasil', 'Argentina', 'China', 'Canadá', 'Japão']\n"
     ]
    }
   ],
   "source": [
    "nomes_paises = ['Brasil', 'Argentina', 'China', 'Canadá', 'Japão']\n",
    "print(nomes_paises)"
   ]
  },
  {
   "cell_type": "code",
   "execution_count": 3,
   "id": "d3d0eb11",
   "metadata": {},
   "outputs": [
    {
     "name": "stdout",
     "output_type": "stream",
     "text": [
      "Tamanho da lista: 5\n"
     ]
    }
   ],
   "source": [
    "print('Tamanho da lista:', len(nomes_paises)) #função para ver qual o tamanho da lista"
   ]
  },
  {
   "cell_type": "code",
   "execution_count": 4,
   "id": "c8edc4d9",
   "metadata": {},
   "outputs": [
    {
     "name": "stdout",
     "output_type": "stream",
     "text": [
      "País: Japão\n"
     ]
    }
   ],
   "source": [
    "print('País:', nomes_paises[4])"
   ]
  },
  {
   "cell_type": "code",
   "execution_count": 5,
   "id": "0bf9c003",
   "metadata": {},
   "outputs": [
    {
     "name": "stdout",
     "output_type": "stream",
     "text": [
      "País: Japão\n"
     ]
    }
   ],
   "source": [
    "print('País:', nomes_paises[-1]) #acesso ao último ítem da lista"
   ]
  },
  {
   "cell_type": "code",
   "execution_count": 6,
   "id": "76472757",
   "metadata": {},
   "outputs": [
    {
     "name": "stdout",
     "output_type": "stream",
     "text": [
      "País: Colômbia\n",
      "['Brasil', 'Argentina', 'China', 'Canadá', 'Colômbia']\n"
     ]
    }
   ],
   "source": [
    "nomes_paises[4] = 'Colômbia' # mudar o nome do pais da posição 4\n",
    "print('País:', nomes_paises[4])\n",
    "print(nomes_paises)"
   ]
  },
  {
   "cell_type": "code",
   "execution_count": 7,
   "id": "18e75a81",
   "metadata": {},
   "outputs": [
    {
     "name": "stdout",
     "output_type": "stream",
     "text": [
      "['Argentina', 'China']\n"
     ]
    }
   ],
   "source": [
    "print(nomes_paises[1:3]) #slicing"
   ]
  },
  {
   "cell_type": "code",
   "execution_count": 8,
   "id": "5f0bb796",
   "metadata": {},
   "outputs": [
    {
     "name": "stdout",
     "output_type": "stream",
     "text": [
      "['Argentina', 'China', 'Canadá']\n"
     ]
    }
   ],
   "source": [
    "print(nomes_paises[1:-1])"
   ]
  },
  {
   "cell_type": "code",
   "execution_count": 9,
   "id": "65cae126",
   "metadata": {},
   "outputs": [
    {
     "name": "stdout",
     "output_type": "stream",
     "text": [
      "['China', 'Canadá', 'Colômbia']\n"
     ]
    }
   ],
   "source": [
    "print(nomes_paises[2:]) #até o final"
   ]
  },
  {
   "cell_type": "code",
   "execution_count": 10,
   "id": "55d70032",
   "metadata": {},
   "outputs": [
    {
     "name": "stdout",
     "output_type": "stream",
     "text": [
      "['Brasil', 'Argentina', 'China']\n"
     ]
    }
   ],
   "source": [
    "print(nomes_paises[:3]) #até a posição 3"
   ]
  },
  {
   "cell_type": "code",
   "execution_count": 11,
   "id": "fa18504d",
   "metadata": {},
   "outputs": [
    {
     "name": "stdout",
     "output_type": "stream",
     "text": [
      "['Brasil', 'Argentina', 'China', 'Canadá', 'Colômbia']\n"
     ]
    }
   ],
   "source": [
    "print(nomes_paises[:]) #todos"
   ]
  },
  {
   "cell_type": "code",
   "execution_count": 12,
   "id": "ae721cc7",
   "metadata": {},
   "outputs": [
    {
     "name": "stdout",
     "output_type": "stream",
     "text": [
      "['Brasil', 'China', 'Colômbia']\n"
     ]
    }
   ],
   "source": [
    "print(nomes_paises[::2]) #pular de dois em dois"
   ]
  },
  {
   "cell_type": "code",
   "execution_count": 13,
   "id": "7800bd6f",
   "metadata": {},
   "outputs": [
    {
     "name": "stdout",
     "output_type": "stream",
     "text": [
      "['Colômbia', 'Canadá', 'China', 'Argentina', 'Brasil']\n"
     ]
    }
   ],
   "source": [
    "print(nomes_paises[::-1]) #inverter a impressão da lista "
   ]
  },
  {
   "cell_type": "code",
   "execution_count": 14,
   "id": "cba0921a",
   "metadata": {},
   "outputs": [
    {
     "name": "stdout",
     "output_type": "stream",
     "text": [
      "True\n"
     ]
    }
   ],
   "source": [
    "print('Brasil' in nomes_paises) #retorna um booleano"
   ]
  },
  {
   "cell_type": "code",
   "execution_count": 15,
   "id": "310c4ed4",
   "metadata": {},
   "outputs": [
    {
     "name": "stdout",
     "output_type": "stream",
     "text": [
      "False\n"
     ]
    }
   ],
   "source": [
    "print('Canadá' not in nomes_paises) #retorna um booleano"
   ]
  },
  {
   "cell_type": "code",
   "execution_count": 16,
   "id": "9f2e603d",
   "metadata": {},
   "outputs": [],
   "source": [
    "lista_capitais = [] #declarando uma lista vazia"
   ]
  },
  {
   "cell_type": "code",
   "execution_count": 18,
   "id": "acaeb066",
   "metadata": {},
   "outputs": [
    {
     "name": "stdout",
     "output_type": "stream",
     "text": [
      "['Brasilia', 'Buenos Aires', 'Pequin', 'Bogotá', 'Brasilia', 'Buenos Aires', 'Pequin', 'Bogotá']\n"
     ]
    }
   ],
   "source": [
    "lista_capitais.append('Brasilia') #adicionar valores a lista\n",
    "lista_capitais.append('Buenos Aires')\n",
    "lista_capitais.append('Pequin')\n",
    "lista_capitais.append('Bogotá') \n",
    "print(lista_capitais)"
   ]
  },
  {
   "cell_type": "code",
   "execution_count": 30,
   "id": "1817cab3",
   "metadata": {},
   "outputs": [
    {
     "name": "stdout",
     "output_type": "stream",
     "text": [
      "['Brasilia', 'Paris', 'Buenos Aires', 'Pequin', 'Brasilia']\n"
     ]
    }
   ],
   "source": [
    "lista_capitais.insert(2, 'Buenos Aires')\n",
    "print(lista_capitais)"
   ]
  },
  {
   "cell_type": "code",
   "execution_count": 23,
   "id": "080877c9",
   "metadata": {},
   "outputs": [
    {
     "name": "stdout",
     "output_type": "stream",
     "text": [
      "['Brasilia', 'Buenos Aires', 'Paris', 'Pequin', 'Brasilia', 'Buenos Aires', 'Pequin', 'Bogotá']\n"
     ]
    }
   ],
   "source": [
    "lista_capitais.remove('Bogotá')\n",
    "print(lista_capitais)"
   ]
  },
  {
   "cell_type": "code",
   "execution_count": 29,
   "id": "0623ca05",
   "metadata": {},
   "outputs": [
    {
     "name": "stdout",
     "output_type": "stream",
     "text": [
      "Bogotá\n",
      "['Brasilia', 'Paris', 'Pequin', 'Brasilia']\n"
     ]
    }
   ],
   "source": [
    "removido = lista_capitais.pop(4)\n",
    "print(removido)\n",
    "print(lista_capitais)"
   ]
  },
  {
   "cell_type": "code",
   "execution_count": 31,
   "id": "3d0cbf70",
   "metadata": {},
   "outputs": [
    {
     "name": "stdout",
     "output_type": "stream",
     "text": [
      "('Brasil', 'Argentina', 'Canadá', 'Japão')\n"
     ]
    }
   ],
   "source": [
    "nomes_paises = ('Brasil', 'Argentina', 'Canadá', 'Japão') #declarando uma tupla\n",
    "print(nomes_paises)"
   ]
  },
  {
   "cell_type": "code",
   "execution_count": 32,
   "id": "fc5bce2a",
   "metadata": {},
   "outputs": [
    {
     "name": "stdout",
     "output_type": "stream",
     "text": [
      "('Brasil', 'Argentina', 'China', 'Canadá', 'Japão') <class 'tuple'>\n"
     ]
    }
   ],
   "source": [
    "nomes_paises = 'Brasil', 'Argentina', 'China', 'Canadá', 'Japão' \n",
    "print(nomes_paises, type(nomes_paises))"
   ]
  },
  {
   "cell_type": "code",
   "execution_count": 35,
   "id": "0f4d09d0",
   "metadata": {},
   "outputs": [
    {
     "name": "stdout",
     "output_type": "stream",
     "text": [
      "('São Paulo',) <class 'tuple'>\n"
     ]
    }
   ],
   "source": [
    "nome_estado = 'São Paulo', #colocar a virgula para indicar tupla\n",
    "print(nome_estado, type(nome_estado))"
   ]
  },
  {
   "cell_type": "code",
   "execution_count": 36,
   "id": "8c1d7765",
   "metadata": {},
   "outputs": [
    {
     "data": {
      "text/plain": [
       "5"
      ]
     },
     "execution_count": 36,
     "metadata": {},
     "output_type": "execute_result"
    }
   ],
   "source": [
    "len(nomes_paises)"
   ]
  },
  {
   "cell_type": "code",
   "execution_count": 37,
   "id": "9aeb2d93",
   "metadata": {},
   "outputs": [
    {
     "data": {
      "text/plain": [
       "'Brasil'"
      ]
     },
     "execution_count": 37,
     "metadata": {},
     "output_type": "execute_result"
    }
   ],
   "source": [
    "nomes_paises[0]"
   ]
  },
  {
   "cell_type": "code",
   "execution_count": 38,
   "id": "3c076a53",
   "metadata": {},
   "outputs": [],
   "source": [
    "b, a, c, ca, j = nomes_paises"
   ]
  },
  {
   "cell_type": "code",
   "execution_count": 39,
   "id": "54b5f2cd",
   "metadata": {},
   "outputs": [
    {
     "name": "stdout",
     "output_type": "stream",
     "text": [
      "Brasil China Japão\n"
     ]
    }
   ],
   "source": [
    "print(b, c, j)"
   ]
  },
  {
   "cell_type": "code",
   "execution_count": 40,
   "id": "6b8bab40",
   "metadata": {},
   "outputs": [
    {
     "name": "stdout",
     "output_type": "stream",
     "text": [
      "Google\n"
     ]
    }
   ],
   "source": [
    "empresa = 'Google'\n",
    "print(empresa)"
   ]
  },
  {
   "cell_type": "code",
   "execution_count": 41,
   "id": "992e64bf",
   "metadata": {},
   "outputs": [
    {
     "name": "stdout",
     "output_type": "stream",
     "text": [
      "Google\n"
     ]
    }
   ],
   "source": [
    "empresa = \"Google\"\n",
    "print(empresa)"
   ]
  },
  {
   "cell_type": "code",
   "execution_count": 42,
   "id": "8cf92eaf",
   "metadata": {},
   "outputs": [
    {
     "ename": "SyntaxError",
     "evalue": "invalid syntax (<ipython-input-42-43c6deb3f727>, line 1)",
     "output_type": "error",
     "traceback": [
      "\u001b[1;36m  File \u001b[1;32m\"<ipython-input-42-43c6deb3f727>\"\u001b[1;36m, line \u001b[1;32m1\u001b[0m\n\u001b[1;33m    empresa = 'Let's Code'\u001b[0m\n\u001b[1;37m                   ^\u001b[0m\n\u001b[1;31mSyntaxError\u001b[0m\u001b[1;31m:\u001b[0m invalid syntax\n"
     ]
    }
   ],
   "source": [
    "empresa = 'Let's Code' #erro na declaração"
   ]
  },
  {
   "cell_type": "code",
   "execution_count": 43,
   "id": "a73f2e63",
   "metadata": {},
   "outputs": [
    {
     "name": "stdout",
     "output_type": "stream",
     "text": [
      "Let's Code\n"
     ]
    }
   ],
   "source": [
    "empresa = \"Let's Code\"\n",
    "print(empresa)"
   ]
  },
  {
   "cell_type": "code",
   "execution_count": 44,
   "id": "e157df08",
   "metadata": {},
   "outputs": [
    {
     "name": "stdout",
     "output_type": "stream",
     "text": [
      "O professor Pietro da Let's Code disse: \"Hoje a pizza é por minha conta\"\n"
     ]
    }
   ],
   "source": [
    "frase = \"O professor Pietro da Let's Code disse: \\\"Hoje a pizza é por minha conta\\\"\"\n",
    "#contra barra serve para juntar o texto com aspas ao texto (caracter de escape)\n",
    "print(frase)"
   ]
  },
  {
   "cell_type": "code",
   "execution_count": 45,
   "id": "c50c0ee6",
   "metadata": {},
   "outputs": [
    {
     "name": "stdout",
     "output_type": "stream",
     "text": [
      "G\n"
     ]
    }
   ],
   "source": [
    "empresa = 'Google'\n",
    "print(empresa[0])"
   ]
  },
  {
   "cell_type": "code",
   "execution_count": 46,
   "id": "b2014398",
   "metadata": {},
   "outputs": [
    {
     "name": "stdout",
     "output_type": "stream",
     "text": [
      "Goo\n"
     ]
    }
   ],
   "source": [
    "print(empresa[:3])"
   ]
  },
  {
   "cell_type": "code",
   "execution_count": 48,
   "id": "51d0d5ff",
   "metadata": {},
   "outputs": [
    {
     "name": "stdout",
     "output_type": "stream",
     "text": [
      "['São Paulo', 'Belo Horizonte', 'Rio de Janeiro', 'Brasília']\n"
     ]
    }
   ],
   "source": [
    "nomes_cidades = \"São Paulo, Belo Horizonte, Rio de Janeiro, Brasília\" #quebrando strings para adicionar a uma lista\n",
    "nomes_cidades = nomes_cidades.split(', ')\n",
    "print(nomes_cidades)"
   ]
  },
  {
   "cell_type": "code",
   "execution_count": 49,
   "id": "fe895508",
   "metadata": {},
   "outputs": [
    {
     "name": "stdout",
     "output_type": "stream",
     "text": [
      "MENU PRINCIPAL\n"
     ]
    }
   ],
   "source": [
    "cabecalho = \"                    MENU PRINCIPAL                 \"\n",
    "print(cabecalho.strip()) # método para retirar os espaços em branco"
   ]
  },
  {
   "cell_type": "code",
   "execution_count": 50,
   "id": "e813198a",
   "metadata": {
    "scrolled": true
   },
   "outputs": [
    {
     "name": "stdout",
     "output_type": "stream",
     "text": [
      "Rio De Janeiro\n",
      "Rio de janeiro\n",
      "rio de janeiro\n",
      "RIO DE JANEIRO\n"
     ]
    }
   ],
   "source": [
    "nome_cidade = 'rIo DE jaNeiRo'\n",
    "\n",
    "print(nome_cidade.title()) # Rio De Janeiro\n",
    "print(nome_cidade.capitalize()) # Rio de janeiro\n",
    "print(nome_cidade.lower()) # rio de janeiro\n",
    "print(nome_cidade.upper()) # RIO DE JANEIRO"
   ]
  },
  {
   "cell_type": "code",
   "execution_count": 51,
   "id": "02886593",
   "metadata": {},
   "outputs": [
    {
     "name": "stdout",
     "output_type": "stream",
     "text": [
      "Que cidade do Brasil é conhecida como cidade maravilhosa?São Paulo\n",
      "Tenta de novo, vai\n",
      "Que cidade do Brasil é conhecida como cidade maravilhosa?Rio de janeiro\n",
      "Boa, campeão\n"
     ]
    }
   ],
   "source": [
    "nome_cidade = input('Que cidade do Brasil é conhecida como cidade maravilhosa?')\n",
    "nome_cidade = nome_cidade.strip()\n",
    "while nome_cidade.lower() != 'rio de janeiro':\n",
    "    print('Tenta de novo, vai')\n",
    "    nome_cidade = input('Que cidade do Brasil é conhecida como cidade maravilhosa?')\n",
    "\n",
    "print('Boa, campeão')"
   ]
  },
  {
   "cell_type": "code",
   "execution_count": 52,
   "id": "57ae1c99",
   "metadata": {},
   "outputs": [
    {
     "name": "stdout",
     "output_type": "stream",
     "text": [
      "True\n"
     ]
    }
   ],
   "source": [
    "mensagem = 'Você viu o que o Pietro disse na sala ontem?'\n",
    "fui_citado = 'Pietro' in mensagem\n",
    "print(fui_citado)"
   ]
  },
  {
   "cell_type": "code",
   "execution_count": 5,
   "id": "4582ef06",
   "metadata": {},
   "outputs": [
    {
     "name": "stdout",
     "output_type": "stream",
     "text": [
      "Olá, Nathan \n"
     ]
    }
   ],
   "source": [
    "cumprimento = 'Olá, '\n",
    "nome = 'Nathan '\n",
    "print(cumprimento + nome) # concatenação"
   ]
  },
  {
   "cell_type": "code",
   "execution_count": 6,
   "id": "5366ebb8",
   "metadata": {},
   "outputs": [
    {
     "name": "stdout",
     "output_type": "stream",
     "text": [
      "Nathan Nathan Nathan Nathan Nathan \n"
     ]
    }
   ],
   "source": [
    "print(nome*5) #copia uma string 'n' vezes"
   ]
  },
  {
   "cell_type": "code",
   "execution_count": 8,
   "id": "0a8b399a",
   "metadata": {},
   "outputs": [
    {
     "name": "stdout",
     "output_type": "stream",
     "text": [
      "Nathan tem 22 anos e 0 filhos.\n"
     ]
    }
   ],
   "source": [
    "nome = 'Nathan'\n",
    "idade = 22\n",
    "n_filhos = 0\n",
    "print(nome + ' tem ' + str(idade) + ' anos e ' + str(n_filhos) + ' filhos.')"
   ]
  },
  {
   "cell_type": "code",
   "execution_count": 10,
   "id": "b553507f",
   "metadata": {},
   "outputs": [
    {
     "name": "stdout",
     "output_type": "stream",
     "text": [
      "Nathan tem 22 anos e 0 filhos\n"
     ]
    }
   ],
   "source": [
    "print('{} tem {} anos e {} filhos' .format(nome, idade, n_filhos)) # método format"
   ]
  },
  {
   "cell_type": "code",
   "execution_count": 12,
   "id": "40a73b85",
   "metadata": {},
   "outputs": [
    {
     "name": "stdout",
     "output_type": "stream",
     "text": [
      "O preço da gasolina hoje subiu e está em R$ 3.48.\n"
     ]
    }
   ],
   "source": [
    "preco_gasolina = 3.476\n",
    "print('O preço da gasolina hoje subiu e está em R$ {:.2f}.' .format(preco_gasolina))"
   ]
  },
  {
   "cell_type": "code",
   "execution_count": 15,
   "id": "33576aad",
   "metadata": {},
   "outputs": [
    {
     "name": "stdout",
     "output_type": "stream",
     "text": [
      "Nathan tem 22 anos e 0 filhos\n"
     ]
    }
   ],
   "source": [
    "print(f'{nome} tem {idade} anos e {n_filhos} filhos') # utilizando atalho do format "
   ]
  },
  {
   "cell_type": "code",
   "execution_count": 16,
   "id": "ccc61054",
   "metadata": {},
   "outputs": [],
   "source": [
    "dados_cidade = {\n",
    "    'nome': 'São Paulo',\n",
    "    'estado': 'São Paulo',\n",
    "    'area_km2' : 1521,\n",
    "    'populacao_milhoes': 12.18\n",
    "} #estrutura de dados de um dicionário"
   ]
  },
  {
   "cell_type": "code",
   "execution_count": 17,
   "id": "44b1bc11",
   "metadata": {},
   "outputs": [
    {
     "name": "stdout",
     "output_type": "stream",
     "text": [
      "<class 'dict'>\n"
     ]
    }
   ],
   "source": [
    "print(type(dados_cidade))"
   ]
  },
  {
   "cell_type": "code",
   "execution_count": 18,
   "id": "d5b621a9",
   "metadata": {},
   "outputs": [
    {
     "name": "stdout",
     "output_type": "stream",
     "text": [
      "{'nome': 'São Paulo', 'estado': 'São Paulo', 'area_km2': 1521, 'populacao_milhoes': 12.18}\n"
     ]
    }
   ],
   "source": [
    "print(dados_cidade)"
   ]
  },
  {
   "cell_type": "code",
   "execution_count": 19,
   "id": "fb824fe8",
   "metadata": {},
   "outputs": [],
   "source": [
    "dados_cidade['pais'] = 'Brasil' #adicionando chave 'pais' ao dicionario"
   ]
  },
  {
   "cell_type": "code",
   "execution_count": 20,
   "id": "d3d63ecd",
   "metadata": {},
   "outputs": [
    {
     "name": "stdout",
     "output_type": "stream",
     "text": [
      "{'nome': 'São Paulo', 'estado': 'São Paulo', 'area_km2': 1521, 'populacao_milhoes': 12.18, 'pais': 'Brasil'}\n"
     ]
    }
   ],
   "source": [
    "print(dados_cidade)"
   ]
  },
  {
   "cell_type": "code",
   "execution_count": 21,
   "id": "4cfaff2b",
   "metadata": {},
   "outputs": [
    {
     "name": "stdout",
     "output_type": "stream",
     "text": [
      "São Paulo\n"
     ]
    }
   ],
   "source": [
    "print(dados_cidade['nome']) #imprimindo o valor da chave 'nome'"
   ]
  },
  {
   "cell_type": "code",
   "execution_count": 23,
   "id": "f412ad59",
   "metadata": {},
   "outputs": [
    {
     "name": "stdout",
     "output_type": "stream",
     "text": [
      "1500\n"
     ]
    }
   ],
   "source": [
    "dados_cidade['area_km2'] = 1500 #atualizando valores no dicionário\n",
    "print(dados_cidade['area_km2'])"
   ]
  },
  {
   "cell_type": "code",
   "execution_count": 24,
   "id": "d0fdaaf5",
   "metadata": {},
   "outputs": [],
   "source": [
    "dados_cidade2 = dados_cidade"
   ]
  },
  {
   "cell_type": "code",
   "execution_count": 25,
   "id": "c72998c4",
   "metadata": {},
   "outputs": [],
   "source": [
    "dados_cidade2['nome'] = 'Santos' # altera o valor dos dois dicionários"
   ]
  },
  {
   "cell_type": "code",
   "execution_count": 26,
   "id": "36390755",
   "metadata": {},
   "outputs": [
    {
     "name": "stdout",
     "output_type": "stream",
     "text": [
      "{'nome': 'Santos', 'estado': 'São Paulo', 'area_km2': 1500, 'populacao_milhoes': 12.18, 'pais': 'Brasil'}\n"
     ]
    }
   ],
   "source": [
    "print(dados_cidade2)"
   ]
  },
  {
   "cell_type": "code",
   "execution_count": 27,
   "id": "8e976b47",
   "metadata": {},
   "outputs": [
    {
     "name": "stdout",
     "output_type": "stream",
     "text": [
      "{'nome': 'Santos', 'estado': 'São Paulo', 'area_km2': 1500, 'populacao_milhoes': 12.18, 'pais': 'Brasil'}\n"
     ]
    }
   ],
   "source": [
    "print(dados_cidade)"
   ]
  },
  {
   "cell_type": "code",
   "execution_count": 29,
   "id": "54c0a997",
   "metadata": {},
   "outputs": [],
   "source": [
    "dados_cidade_3 = dados_cidade.copy() # faz uma cópia e altera somente a cópia"
   ]
  },
  {
   "cell_type": "code",
   "execution_count": 30,
   "id": "8b0c34cf",
   "metadata": {},
   "outputs": [],
   "source": [
    "dados_cidade_3['estado'] = 'Rio de Janeiro'"
   ]
  },
  {
   "cell_type": "code",
   "execution_count": 31,
   "id": "40258208",
   "metadata": {},
   "outputs": [
    {
     "name": "stdout",
     "output_type": "stream",
     "text": [
      "{'nome': 'Santos', 'estado': 'Rio de Janeiro', 'area_km2': 1500, 'populacao_milhoes': 12.18, 'pais': 'Brasil'}\n"
     ]
    }
   ],
   "source": [
    "print(dados_cidade_3)"
   ]
  },
  {
   "cell_type": "code",
   "execution_count": 32,
   "id": "97d76097",
   "metadata": {},
   "outputs": [
    {
     "name": "stdout",
     "output_type": "stream",
     "text": [
      "{'nome': 'Santos', 'estado': 'São Paulo', 'area_km2': 1500, 'populacao_milhoes': 15, 'pais': 'Brasil', 'fundacao': '25/01/1554'}\n"
     ]
    }
   ],
   "source": [
    "novos_dados = {\n",
    "    'populacao_milhoes' : 15,\n",
    "    'fundacao': '25/01/1554'\n",
    "}\n",
    "\n",
    "dados_cidade.update(novos_dados) # adicionar novos dados a um dicionário existente\n",
    "print(dados_cidade)"
   ]
  },
  {
   "cell_type": "code",
   "execution_count": null,
   "id": "dbf56bf7",
   "metadata": {},
   "outputs": [],
   "source": [
    "dados_cidade['prefeito'] #erro"
   ]
  },
  {
   "cell_type": "code",
   "execution_count": 34,
   "id": "e169306b",
   "metadata": {},
   "outputs": [
    {
     "name": "stdout",
     "output_type": "stream",
     "text": [
      "None\n"
     ]
    }
   ],
   "source": [
    "print(dados_cidade.get('prefeito'))"
   ]
  },
  {
   "cell_type": "code",
   "execution_count": 36,
   "id": "e4b24cc8",
   "metadata": {},
   "outputs": [
    {
     "name": "stdout",
     "output_type": "stream",
     "text": [
      "dict_keys(['nome', 'estado', 'area_km2', 'populacao_milhoes', 'pais', 'fundacao'])\n",
      "--------\n",
      "dict_values(['Santos', 'São Paulo', 1500, 15, 'Brasil', '25/01/1554'])\n",
      "--------\n",
      "dict_items([('nome', 'Santos'), ('estado', 'São Paulo'), ('area_km2', 1500), ('populacao_milhoes', 15), ('pais', 'Brasil'), ('fundacao', '25/01/1554')])\n"
     ]
    }
   ],
   "source": [
    "print(dados_cidade.keys()) # retorna uma lista de chaves de um dicionário\n",
    "print('--------')\n",
    "print(dados_cidade.values()) # retorna uma lista de valores de um dicionário\n",
    "print('--------')\n",
    "print(dados_cidade.items()) # retorna uma lista de tuplas(chave,valor) de um dicionário"
   ]
  },
  {
   "cell_type": "code",
   "execution_count": 37,
   "id": "9ed190de",
   "metadata": {},
   "outputs": [
    {
     "name": "stdout",
     "output_type": "stream",
     "text": [
      "São Paulo\n",
      "Londres\n",
      "Tóquio\n",
      "Paris\n"
     ]
    }
   ],
   "source": [
    "nomes_cidades = ['São Paulo', 'Londres', 'Tóquio', 'Paris'] \n",
    "for nome in nomes_cidades: #iteração usando for\n",
    "    print(nome)"
   ]
  },
  {
   "cell_type": "code",
   "execution_count": 38,
   "id": "d243306d",
   "metadata": {},
   "outputs": [
    {
     "name": "stdout",
     "output_type": "stream",
     "text": [
      "São Paulo\n",
      "Londres\n",
      "Tóquio\n",
      "Paris\n"
     ]
    }
   ],
   "source": [
    "contador = 0\n",
    "nomes_cidades = ['São Paulo', 'Londres', 'Tóquio', 'Paris']\n",
    "while contador < len(nomes_cidades): #iteração usando while\n",
    "    print(nomes_cidades[contador])\n",
    "    contador = contador + 1"
   ]
  },
  {
   "cell_type": "code",
   "execution_count": 39,
   "id": "5ac64bd5",
   "metadata": {},
   "outputs": [
    {
     "name": "stdout",
     "output_type": "stream",
     "text": [
      "São Paulo\n",
      "Londres\n",
      "Tóquio\n",
      "Paris\n"
     ]
    }
   ],
   "source": [
    "nomes_cidades = 'São Paulo', 'Londres', 'Tóquio', 'Paris'# tupla\n",
    "for nome in nomes_cidades: #iteração usando for\n",
    "    print(nome)"
   ]
  },
  {
   "cell_type": "code",
   "execution_count": 40,
   "id": "44ff5b54",
   "metadata": {},
   "outputs": [
    {
     "name": "stdout",
     "output_type": "stream",
     "text": [
      "nome: São Paulo\n",
      "estado: São Paulo\n",
      "populacao_milhoes: 12.2\n"
     ]
    }
   ],
   "source": [
    "cidade = { # usando dicionário\n",
    "    'nome': 'São Paulo',\n",
    "    'estado': 'São Paulo',\n",
    "    'populacao_milhoes': 12.2\n",
    "}\n",
    "for chave in cidade:\n",
    "    print(f'{chave}: {cidade[chave]}')\n"
   ]
  },
  {
   "cell_type": "code",
   "execution_count": 41,
   "id": "16f98592",
   "metadata": {},
   "outputs": [
    {
     "name": "stdout",
     "output_type": "stream",
     "text": [
      "['São Paulo', 'Londres', 'Tóquio', 'Paris']\n"
     ]
    }
   ],
   "source": [
    "nomes_cidades = ['São Paulo', 'Londres', 'Tóquio', 'Paris']\n",
    "for nome in nomes_cidades:\n",
    "    nome = 'Rio de Janeiro'\n",
    "print(nomes_cidades)"
   ]
  },
  {
   "cell_type": "code",
   "execution_count": 42,
   "id": "788008b4",
   "metadata": {},
   "outputs": [
    {
     "name": "stdout",
     "output_type": "stream",
     "text": [
      "0\n",
      "1\n",
      "2\n",
      "3\n"
     ]
    }
   ],
   "source": [
    "for posicao in range(len(nomes_cidades)):\n",
    "    print(posicao)"
   ]
  },
  {
   "cell_type": "code",
   "execution_count": 43,
   "id": "204759a9",
   "metadata": {},
   "outputs": [
    {
     "name": "stdout",
     "output_type": "stream",
     "text": [
      "['Rio de Janeiro', 'Rio de Janeiro', 'Rio de Janeiro', 'Rio de Janeiro']\n"
     ]
    }
   ],
   "source": [
    "for posicao in range(len(nomes_cidades)):\n",
    "    nomes_cidades[posicao] = 'Rio de Janeiro'\n",
    "print(nomes_cidades)"
   ]
  },
  {
   "cell_type": "code",
   "execution_count": 44,
   "id": "c9003e69",
   "metadata": {},
   "outputs": [
    {
     "name": "stdout",
     "output_type": "stream",
     "text": [
      "[0, 1, 2, 3, 4, 5, 6, 7, 8, 9]\n",
      "[2, 3, 4, 5, 6, 7, 8, 9]\n",
      "[2, 4, 6, 8]\n"
     ]
    }
   ],
   "source": [
    "print(list(range(10)))\n",
    "print(list(range(2, 10)))\n",
    "print(list(range(2,10,2)))"
   ]
  },
  {
   "cell_type": "code",
   "execution_count": 45,
   "id": "8eb49c37",
   "metadata": {},
   "outputs": [],
   "source": [
    "def hello(): # definindo uma função que escreve 'Olá, mundo!'\n",
    "    print('Olá, mundo!')"
   ]
  },
  {
   "cell_type": "code",
   "execution_count": 46,
   "id": "82031acf",
   "metadata": {},
   "outputs": [
    {
     "name": "stdout",
     "output_type": "stream",
     "text": [
      "Olá, mundo!\n"
     ]
    }
   ],
   "source": [
    "hello()"
   ]
  },
  {
   "cell_type": "code",
   "execution_count": 48,
   "id": "676cb3ef",
   "metadata": {},
   "outputs": [],
   "source": [
    "def calcula_media(valor1, valor2, valor3):\n",
    "    soma = valor1 + valor2 + valor3\n",
    "    media = soma/3\n",
    "    return media"
   ]
  },
  {
   "cell_type": "code",
   "execution_count": 49,
   "id": "411b8b56",
   "metadata": {},
   "outputs": [
    {
     "name": "stdout",
     "output_type": "stream",
     "text": [
      "10.0\n"
     ]
    }
   ],
   "source": [
    "resultado = calcula_media(10, 10, 10)\n",
    "print(resultado)"
   ]
  },
  {
   "cell_type": "code",
   "execution_count": 50,
   "id": "3140b8d1",
   "metadata": {},
   "outputs": [
    {
     "name": "stdout",
     "output_type": "stream",
     "text": [
      "9.333333333333334\n"
     ]
    }
   ],
   "source": [
    "resultado2 = calcula_media(valor1 = 9, valor2 = 10, valor3 = 9)\n",
    "print(resultado2)"
   ]
  },
  {
   "cell_type": "code",
   "execution_count": 52,
   "id": "62f133fb",
   "metadata": {},
   "outputs": [
    {
     "name": "stdout",
     "output_type": "stream",
     "text": [
      "Olá , Pietro\n"
     ]
    }
   ],
   "source": [
    "print('Olá', end=' ')\n",
    "print(', Pietro')"
   ]
  },
  {
   "cell_type": "code",
   "execution_count": 53,
   "id": "2256d68c",
   "metadata": {},
   "outputs": [],
   "source": [
    "def calcula_media(valor1=0, valor2=0, valor3=0): # definindo valores default\n",
    "    soma = valor1 + valor2 + valor3\n",
    "    media = soma/3\n",
    "    return media"
   ]
  },
  {
   "cell_type": "code",
   "execution_count": 54,
   "id": "18adb2d8",
   "metadata": {},
   "outputs": [
    {
     "name": "stdout",
     "output_type": "stream",
     "text": [
      "0.0\n"
     ]
    }
   ],
   "source": [
    "resultado = calcula_media()\n",
    "print(resultado)"
   ]
  },
  {
   "cell_type": "code",
   "execution_count": 55,
   "id": "8f302cbb",
   "metadata": {},
   "outputs": [],
   "source": [
    "def calcula_media(*args): #definindo uma função sem quantidade definida de parametros\n",
    "    print(args, type(args)) #args é uma tupla"
   ]
  },
  {
   "cell_type": "code",
   "execution_count": 56,
   "id": "cf701cb5",
   "metadata": {},
   "outputs": [
    {
     "name": "stdout",
     "output_type": "stream",
     "text": [
      "(10, 9, 8) <class 'tuple'>\n"
     ]
    }
   ],
   "source": [
    "calcula_media(10, 9, 8)"
   ]
  },
  {
   "cell_type": "code",
   "execution_count": 60,
   "id": "e1ac622a",
   "metadata": {},
   "outputs": [],
   "source": [
    "def calcula_media(*args, margem): # além de args, adiciona uma margem a função como parametro\n",
    "    soma = sum(args)\n",
    "    media = soma/len(args)\n",
    "    return media + margem"
   ]
  },
  {
   "cell_type": "code",
   "execution_count": 62,
   "id": "59716dac",
   "metadata": {},
   "outputs": [
    {
     "data": {
      "text/plain": [
       "9.3"
      ]
     },
     "execution_count": 62,
     "metadata": {},
     "output_type": "execute_result"
    }
   ],
   "source": [
    "calcula_media(10, 9, 8, margem =0.3) # atribuindo valor de margem especificamente"
   ]
  },
  {
   "cell_type": "code",
   "execution_count": 63,
   "id": "6af3d265",
   "metadata": {},
   "outputs": [],
   "source": [
    "def  print_info(**kwargs): #'kwargs' é apenas uma convenção\n",
    "    print(kwargs, type(kwargs))\n",
    "    "
   ]
  },
  {
   "cell_type": "code",
   "execution_count": 64,
   "id": "cb6d9ecb",
   "metadata": {},
   "outputs": [
    {
     "name": "stdout",
     "output_type": "stream",
     "text": [
      "{'nome': 'Nathan', 'sobrenome': 'Dantas'} <class 'dict'>\n"
     ]
    }
   ],
   "source": [
    "print_info(nome='Nathan', sobrenome = 'Dantas') #recebe um dicionário"
   ]
  },
  {
   "cell_type": "code",
   "execution_count": null,
   "id": "2b83d9e3",
   "metadata": {},
   "outputs": [],
   "source": []
  }
 ],
 "metadata": {
  "kernelspec": {
   "display_name": "Python 3",
   "language": "python",
   "name": "python3"
  },
  "language_info": {
   "codemirror_mode": {
    "name": "ipython",
    "version": 3
   },
   "file_extension": ".py",
   "mimetype": "text/x-python",
   "name": "python",
   "nbconvert_exporter": "python",
   "pygments_lexer": "ipython3",
   "version": "3.9.5"
  }
 },
 "nbformat": 4,
 "nbformat_minor": 5
}
